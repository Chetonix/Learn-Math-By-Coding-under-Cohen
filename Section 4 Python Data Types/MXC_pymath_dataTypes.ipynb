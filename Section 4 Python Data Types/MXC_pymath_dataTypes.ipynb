{
 "cells": [
  {
   "cell_type": "markdown",
   "metadata": {},
   "source": [
    "# COURSE: Master math by coding in Python\n",
    "## SECTION: Data types\n",
    "\n",
    "#### https://www.udemy.com/course/math-with-python/?couponCode=MXC-DISC4ALL\n",
    "#### INSTRUCTOR: sincxpress.com\n",
    "\n",
    "Note about this code: Each video in this section of the course corresponds to a section of code below. Please note that this code roughly matches the code shown in the live recording, but is not exactly the same -- the variable names, order of lines, and parameters may be slightly different. "
   ]
  },
  {
   "cell_type": "code",
   "execution_count": null,
   "metadata": {},
   "outputs": [],
   "source": []
  },
  {
   "cell_type": "code",
   "execution_count": 1,
   "metadata": {},
   "outputs": [],
   "source": [
    "import numpy as np"
   ]
  },
  {
   "cell_type": "markdown",
   "metadata": {},
   "source": [
    "# VIDEO: Numbers and strings"
   ]
  },
  {
   "cell_type": "code",
   "execution_count": 2,
   "metadata": {},
   "outputs": [
    {
     "name": "stdout",
     "output_type": "stream",
     "text": [
      "7 7.0\n"
     ]
    }
   ],
   "source": [
    "# ints vs. floats\n",
    "\n",
    "c = 7\n",
    "d = 7.0\n",
    "\n",
    "print(c,d)"
   ]
  },
  {
   "cell_type": "code",
   "execution_count": 3,
   "metadata": {},
   "outputs": [
    {
     "name": "stdout",
     "output_type": "stream",
     "text": [
      "<class 'int'>\n",
      "<class 'float'>\n"
     ]
    }
   ],
   "source": [
    "print( type(c) )\n",
    "print( type(d) )"
   ]
  },
  {
   "cell_type": "code",
   "execution_count": 4,
   "metadata": {},
   "outputs": [
    {
     "name": "stdout",
     "output_type": "stream",
     "text": [
      "0\n",
      "1\n",
      "2\n",
      "3\n",
      "4\n",
      "5\n",
      "6\n"
     ]
    }
   ],
   "source": [
    "# implication of datatype for functions loops\n",
    "\n",
    "for i in range(c): # vs d\n",
    "    print(i)"
   ]
  },
  {
   "cell_type": "code",
   "execution_count": 5,
   "metadata": {},
   "outputs": [
    {
     "name": "stdout",
     "output_type": "stream",
     "text": [
      "MikeCohen\n",
      "Mike Cohen\n"
     ]
    }
   ],
   "source": [
    "# we can add numbers; can we \"add\" strings??\n",
    "firstName = 'Mike'\n",
    "lastName  = 'Cohen'\n",
    "\n",
    "print( firstName + lastName )\n",
    "print( firstName + ' ' + lastName )"
   ]
  },
  {
   "cell_type": "code",
   "execution_count": 6,
   "metadata": {},
   "outputs": [
    {
     "data": {
      "text/plain": [
       "'MikeMikeMike'"
      ]
     },
     "execution_count": 6,
     "metadata": {},
     "output_type": "execute_result"
    }
   ],
   "source": [
    "firstName * 3"
   ]
  },
  {
   "cell_type": "code",
   "execution_count": 7,
   "metadata": {},
   "outputs": [
    {
     "name": "stdout",
     "output_type": "stream",
     "text": [
      "Variable    Type      Data/Info\n",
      "-------------------------------\n",
      "c           int       7\n",
      "d           float     7.0\n",
      "firstName   str       Mike\n",
      "i           int       6\n",
      "lastName    str       Cohen\n",
      "np          module    <module 'numpy' from '/Us<...>kages/numpy/__init__.py'>\n"
     ]
    }
   ],
   "source": [
    "%whos"
   ]
  },
  {
   "cell_type": "code",
   "execution_count": null,
   "metadata": {},
   "outputs": [],
   "source": []
  },
  {
   "cell_type": "markdown",
   "metadata": {},
   "source": [
    "### Exercise"
   ]
  },
  {
   "cell_type": "code",
   "execution_count": null,
   "metadata": {},
   "outputs": [],
   "source": [
    "### converting across datatypes\n",
    "\n",
    "s1 = '4'\n",
    "s2 = '4.7'\n",
    "n1 = 5\n",
    "n2 = 5.8\n",
    "\n",
    "## convert strings to integers\n",
    "print( int(s1) )\n",
    "# print( int(s2) )\n",
    "\n",
    "\n",
    "## string to floating-point\n",
    "print( float(s1) )\n",
    "print( float(s2) )\n",
    "\n",
    "\n",
    "## number to string\n",
    "print( str(n1) )\n",
    "print( str(n2) )\n"
   ]
  },
  {
   "cell_type": "code",
   "execution_count": null,
   "metadata": {},
   "outputs": [],
   "source": []
  },
  {
   "cell_type": "markdown",
   "metadata": {},
   "source": [
    "# VIDEO: Lists and numpy arrays"
   ]
  },
  {
   "cell_type": "code",
   "execution_count": 8,
   "metadata": {},
   "outputs": [
    {
     "data": {
      "text/plain": [
       "[0, 1, 2, 3, 4, 5]"
      ]
     },
     "execution_count": 8,
     "metadata": {},
     "output_type": "execute_result"
    }
   ],
   "source": [
    "aList = [0,1,2,3,4,5]\n",
    "aList"
   ]
  },
  {
   "cell_type": "code",
   "execution_count": 9,
   "metadata": {},
   "outputs": [
    {
     "data": {
      "text/plain": [
       "list"
      ]
     },
     "execution_count": 9,
     "metadata": {},
     "output_type": "execute_result"
    }
   ],
   "source": [
    "type(aList)"
   ]
  },
  {
   "cell_type": "code",
   "execution_count": 10,
   "metadata": {},
   "outputs": [
    {
     "data": {
      "text/plain": [
       "[3, ['3', '4', '5'], 5, [4, 5, 6]]"
      ]
     },
     "execution_count": 10,
     "metadata": {},
     "output_type": "execute_result"
    }
   ],
   "source": [
    "listList = [ 3,['3','4','5'],5,[4,5,6] ]\n",
    "listList"
   ]
  },
  {
   "cell_type": "code",
   "execution_count": 11,
   "metadata": {},
   "outputs": [
    {
     "data": {
      "text/plain": [
       "[3, ['3', 'h', '5'], 5, [4, 5, 6]]"
      ]
     },
     "execution_count": 11,
     "metadata": {},
     "output_type": "execute_result"
    }
   ],
   "source": [
    "listList = [ \n",
    "            3,              # a number\n",
    "            ['3','h','5'],  # a list of strings\n",
    "            5,              # another number\n",
    "            [4,5,6]         # a list of numbers\n",
    "           ]\n",
    "\n",
    "listList"
   ]
  },
  {
   "cell_type": "code",
   "execution_count": 12,
   "metadata": {},
   "outputs": [
    {
     "data": {
      "text/plain": [
       "[0, 1, 2, 3, 4, 5, '0', '1', '2', '3', '4', '5']"
      ]
     },
     "execution_count": 12,
     "metadata": {},
     "output_type": "execute_result"
    }
   ],
   "source": [
    "# can we add lists?\n",
    "\n",
    "aList = [0,1,2,3,4,5]\n",
    "strList = ['0','1','2','3','4','5']\n",
    "\n",
    "aList + strList\n",
    "# aList + listList"
   ]
  },
  {
   "cell_type": "code",
   "execution_count": 13,
   "metadata": {},
   "outputs": [
    {
     "data": {
      "text/plain": [
       "[0, 1, 2, 3, 4, 5, 0, 1, 2, 3, 4, 5, 0, 1, 2, 3, 4, 5]"
      ]
     },
     "execution_count": 13,
     "metadata": {},
     "output_type": "execute_result"
    }
   ],
   "source": [
    "# multiply a list?\n",
    "aList*3\n",
    "\n",
    "# the principal here is 'overloading': One operation has multiple behaviors depending on the context"
   ]
  },
  {
   "cell_type": "code",
   "execution_count": 14,
   "metadata": {},
   "outputs": [
    {
     "name": "stdout",
     "output_type": "stream",
     "text": [
      "[0, 1, 2, 3, 4, 5]\n",
      "[0 1 2 3 4 5]\n"
     ]
    }
   ],
   "source": [
    "# lists vs. numpy arrays\n",
    "\n",
    "aList_np = np.array(aList)\n",
    "\n",
    "print(aList)\n",
    "print(aList_np)"
   ]
  },
  {
   "cell_type": "code",
   "execution_count": 15,
   "metadata": {},
   "outputs": [
    {
     "name": "stdout",
     "output_type": "stream",
     "text": [
      "[0, 1, 2, 3, 4, 5, 0, 1, 2, 3, 4, 5, 0, 1, 2, 3, 4, 5]\n",
      "[ 0  3  6  9 12 15]\n"
     ]
    }
   ],
   "source": [
    "# now let's try multiplication again\n",
    "print(aList*3)\n",
    "print(aList_np*3)"
   ]
  },
  {
   "cell_type": "code",
   "execution_count": 17,
   "metadata": {},
   "outputs": [
    {
     "name": "stdout",
     "output_type": "stream",
     "text": [
      "[3 4 5 6 7 8]\n"
     ]
    }
   ],
   "source": [
    "# scalar addition?\n",
    "#print(aList+3)\n",
    "print(aList_np+3)"
   ]
  },
  {
   "cell_type": "markdown",
   "metadata": {},
   "source": [
    "### Exercise"
   ]
  },
  {
   "cell_type": "code",
   "execution_count": 4,
   "metadata": {},
   "outputs": [
    {
     "ename": "NameError",
     "evalue": "name 'listList' is not defined",
     "output_type": "error",
     "traceback": [
      "\u001b[1;31m---------------------------------------------------------------------------\u001b[0m",
      "\u001b[1;31mNameError\u001b[0m                                 Traceback (most recent call last)",
      "\u001b[1;32m<ipython-input-4-6618be8535dd>\u001b[0m in \u001b[0;36m<module>\u001b[1;34m\u001b[0m\n\u001b[0;32m      1\u001b[0m \u001b[1;31m# regular method\u001b[0m\u001b[1;33m\u001b[0m\u001b[1;33m\u001b[0m\u001b[1;33m\u001b[0m\u001b[0m\n\u001b[1;32m----> 2\u001b[1;33m \u001b[1;32mfor\u001b[0m \u001b[0midx\u001b[0m\u001b[1;33m,\u001b[0m\u001b[0mitem\u001b[0m \u001b[1;32min\u001b[0m \u001b[0menumerate\u001b[0m\u001b[1;33m(\u001b[0m\u001b[0mlistList\u001b[0m\u001b[1;33m)\u001b[0m\u001b[1;33m:\u001b[0m\u001b[1;33m\u001b[0m\u001b[1;33m\u001b[0m\u001b[0m\n\u001b[0m\u001b[0;32m      3\u001b[0m     \u001b[0mprint\u001b[0m\u001b[1;33m(\u001b[0m\u001b[1;34mf'List element {idx} is {item} and is of type {type(item)}.'\u001b[0m\u001b[1;33m)\u001b[0m\u001b[1;33m\u001b[0m\u001b[1;33m\u001b[0m\u001b[0m\n",
      "\u001b[1;31mNameError\u001b[0m: name 'listList' is not defined"
     ]
    }
   ],
   "source": [
    "# regular method\n",
    "for idx,item in enumerate(listList):\n",
    "    print(f'List element {idx} is {item} and is of type {type(item)}.')"
   ]
  },
  {
   "cell_type": "code",
   "execution_count": null,
   "metadata": {},
   "outputs": [],
   "source": [
    "# advanced method to print out only the type\n",
    "for idx,item in enumerate(listList):\n",
    "    t = str(type(item))[8:] \n",
    "    apost = t.find(\"'\")\n",
    "    print(f'List element {idx} is {item} and is of type {t[:apost]}.')"
   ]
  },
  {
   "cell_type": "code",
   "execution_count": 24,
   "metadata": {},
   "outputs": [
    {
     "name": "stdout",
     "output_type": "stream",
     "text": [
      "4 4.7\n",
      "4.0 4.7\n",
      "5 5.8\n",
      "<class 'str'> 5.8\n"
     ]
    }
   ],
   "source": [
    "#Exerices\n",
    "\n",
    "s1 = '4'\n",
    "s2 = '4.7'\n",
    "n1 = 5\n",
    "n2 = 5.8\n",
    "\n",
    "#convert the strings to ints\n",
    "s1 = int(s1)\n",
    "s2 = float(s2)\n",
    "print(s1, s2)\n",
    "#convert the strings to floats\n",
    "s1 = float(s1)\n",
    "s2 = float(s2)\n",
    "print(s1,s2)\n",
    "#convert the numbers to strings\n",
    "n1 = str(n1)\n",
    "n2 = str(n2)\n",
    "print(n1, n2)\n",
    "print(type(str(n1)), str(n2))"
   ]
  },
  {
   "cell_type": "code",
   "execution_count": 50,
   "metadata": {},
   "outputs": [
    {
     "name": "stdout",
     "output_type": "stream",
     "text": [
      "List element 0 is 3 and is of type int.\n",
      "List element 1 is ['3', 'h', '5'] and is of type list.\n",
      "List element 2 is 5 and is of type int.\n",
      "List element 3 is [4, 5, 6] and is of type list.\n"
     ]
    }
   ],
   "source": [
    "\n",
    "for i in listList:\n",
    "    t = str(type(i))\n",
    "#     print(t)\n",
    "    t2 = t[8:]\n",
    "#     print(t2)\n",
    "    print('List element %s is %s and is of type %s.' %(listList.index(i), i, t2[:t2.find(\"'\")]))"
   ]
  },
  {
   "cell_type": "code",
   "execution_count": 34,
   "metadata": {},
   "outputs": [
    {
     "name": "stdout",
     "output_type": "stream",
     "text": [
      "<enumerate object at 0x1145fab00>\n"
     ]
    }
   ],
   "source": [
    "print(enumerate(listList))"
   ]
  }
 ],
 "metadata": {
  "kernelspec": {
   "display_name": "Python 3 (ipykernel)",
   "language": "python",
   "name": "python3"
  },
  "language_info": {
   "codemirror_mode": {
    "name": "ipython",
    "version": 3
   },
   "file_extension": ".py",
   "mimetype": "text/x-python",
   "name": "python",
   "nbconvert_exporter": "python",
   "pygments_lexer": "ipython3",
   "version": "3.9.7"
  }
 },
 "nbformat": 4,
 "nbformat_minor": 2
}
