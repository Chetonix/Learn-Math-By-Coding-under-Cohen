{
 "cells": [
  {
   "cell_type": "code",
   "execution_count": 6,
   "id": "01f75c3e",
   "metadata": {},
   "outputs": [
    {
     "name": "stdout",
     "output_type": "stream",
     "text": [
      "Guess the number between 1 and 10: 1\n",
      "Guess higher!\n",
      "5\n",
      "Guess higher!\n",
      "8\n",
      "You guessed it right, the number was 8\n"
     ]
    }
   ],
   "source": [
    "from numpy import random\n",
    "\n",
    "\n",
    "guess = random.randint(1, 10)\n",
    "number = int(input('Guess the number between 1 and 10: ')) \n",
    "while(guess != number) :\n",
    "    if (guess > number) :\n",
    "        print('Guess higher!')\n",
    "        number = int(input())\n",
    "    \n",
    "    elif (guess < number):\n",
    "        print('Guess lower!')\n",
    "        number = int(input())\n",
    "    \n",
    "\n",
    "\n",
    "\n",
    "print('You guessed it right, the number was %g' % guess)"
   ]
  },
  {
   "cell_type": "code",
   "execution_count": null,
   "id": "2b3be7ce",
   "metadata": {},
   "outputs": [],
   "source": []
  },
  {
   "cell_type": "code",
   "execution_count": null,
   "id": "148e29ea",
   "metadata": {},
   "outputs": [],
   "source": []
  },
  {
   "cell_type": "code",
   "execution_count": null,
   "id": "7adf641d",
   "metadata": {},
   "outputs": [],
   "source": []
  },
  {
   "cell_type": "code",
   "execution_count": null,
   "id": "879eb429",
   "metadata": {},
   "outputs": [],
   "source": []
  },
  {
   "cell_type": "code",
   "execution_count": null,
   "id": "e658017d",
   "metadata": {},
   "outputs": [],
   "source": []
  }
 ],
 "metadata": {
  "kernelspec": {
   "display_name": "Python 3 (ipykernel)",
   "language": "python",
   "name": "python3"
  },
  "language_info": {
   "codemirror_mode": {
    "name": "ipython",
    "version": 3
   },
   "file_extension": ".py",
   "mimetype": "text/x-python",
   "name": "python",
   "nbconvert_exporter": "python",
   "pygments_lexer": "ipython3",
   "version": "3.9.7"
  }
 },
 "nbformat": 4,
 "nbformat_minor": 5
}
